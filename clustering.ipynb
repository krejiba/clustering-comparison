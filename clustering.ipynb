{
 "cells": [
  {
   "cell_type": "markdown",
   "metadata": {},
   "source": [
    "# Clustering"
   ]
  },
  {
   "cell_type": "markdown",
   "metadata": {},
   "source": [
    "### What is clustering?  \n",
    "Clustering is a unsupervised learning technique used to group objects into clusters taking into consideration their similarities."
   ]
  },
  {
   "cell_type": "markdown",
   "metadata": {},
   "source": [
    "### Types of clustering algorithms  \n",
    "- K-Means clustering\n",
    "- Spectral clustering \n",
    "- Density-Based Spatial Clustering of Applications with Noise (DBSCAN)\n",
    "- Hierarchical clustering"
   ]
  },
  {
   "cell_type": "markdown",
   "metadata": {},
   "source": [
    "### Application on toy examples"
   ]
  },
  {
   "cell_type": "code",
   "execution_count": 1,
   "metadata": {},
   "outputs": [],
   "source": [
    "# Import statements\n",
    "import numpy as np\n",
    "import pandas as pd\n",
    "import matplotlib.pyplot as plt\n",
    "from sklearn.cluster import KMeans, DBSCAN"
   ]
  },
  {
   "cell_type": "code",
   "execution_count": 2,
   "metadata": {},
   "outputs": [],
   "source": [
    "%matplotlib inline"
   ]
  },
  {
   "cell_type": "code",
   "execution_count": 3,
   "metadata": {},
   "outputs": [],
   "source": [
    "# Create dataset: Two concentric circles\n",
    "def create_circles(n=100):\n",
    "    features = []\n",
    "    labels = []\n",
    "    for i in range(n//2):\n",
    "        t = 2*np.pi * i/(n//2)\n",
    "        x, y = np.cos(t), np.sin(t)\n",
    "        x, y = x+np.random.normal(0, .2), y+np.random.normal(0, .2)\n",
    "        features.append([x, y])\n",
    "        labels.append(0)\n",
    "    for i in range(n//2, n):\n",
    "        t = 2*np.pi * (i-n//2)/(n//2)\n",
    "        x, y = 3*np.cos(t), 3*np.sin(t)\n",
    "        x, y = x+np.random.normal(0, .2), y+np.random.normal(0, .2)\n",
    "        features.append([x, y])\n",
    "        labels.append(1)\n",
    "    features = pd.DataFrame(features, columns=['x', 'y'])\n",
    "    labels = pd.DataFrame(labels, columns=['label'])\n",
    "    return features, labels"
   ]
  },
  {
   "cell_type": "code",
   "execution_count": 4,
   "metadata": {},
   "outputs": [],
   "source": [
    "# Create dataset: Two blobs\n",
    "def create_blobs(n=100):\n",
    "    features = []\n",
    "    labels = []\n",
    "    for i in range(n//2):\n",
    "        x, y = 1.5, 1.5\n",
    "        x, y = x+np.random.normal(0, .5), y+np.random.normal(0, .5)\n",
    "        features.append([x, y])\n",
    "        labels.append(0)\n",
    "    for i in range(n//2, n):\n",
    "        x, y = -1.5, -1.5\n",
    "        x, y = x+np.random.normal(0, .5), y+np.random.normal(0, .5)\n",
    "        features.append([x, y])\n",
    "        labels.append(1)\n",
    "    features = pd.DataFrame(features, columns=['x', 'y'])\n",
    "    labels = pd.DataFrame(labels, columns=['label'])\n",
    "    return features, labels"
   ]
  },
  {
   "cell_type": "code",
   "execution_count": 5,
   "metadata": {},
   "outputs": [],
   "source": [
    "dataset1 = create_circles(500)\n",
    "dataset2 = create_blobs(500)"
   ]
  },
  {
   "cell_type": "code",
   "execution_count": 6,
   "metadata": {
    "scrolled": true
   },
   "outputs": [
    {
     "data": {
      "image/png": "[encoded data removed]",
      "text/plain": [
       "<Figure size 432x288 with 2 Axes>"
      ]
     },
     "metadata": {
      "needs_background": "light"
     },
     "output_type": "display_data"
    }
   ],
   "source": [
    "# PLot data points\n",
    "f, (ax1, ax2) = plt.subplots(1, 2, sharex=True, sharey=True)\n",
    "ax1.scatter(dataset1[0]['x'] , dataset1[0]['y'])\n",
    "ax1.set_title('Dataset 1')\n",
    "ax1.set_aspect('equal')\n",
    "ax1.xaxis.set_visible(False)\n",
    "ax1.yaxis.set_visible(False)\n",
    "ax2.scatter(dataset2[0]['x'] , dataset2[0]['y'])\n",
    "ax2.set_title('Dataset 2')\n",
    "ax2.set_aspect('equal')\n",
    "ax2.xaxis.set_visible(False)\n",
    "ax2.yaxis.set_visible(False)\n",
    "plt.show()"
   ]
  },
  {
   "cell_type": "markdown",
   "metadata": {},
   "source": [
    "The next step is using clustering algorithms found in the `sklearn` library. We will be comparing two algorithms: \n",
    "* the `Kmeans` algorithm which uses the more general Lloyd's algorithm\n",
    "* the `DBSCAN` algorithm which is a density-based clustering algorithm "
   ]
  },
  {
   "cell_type": "code",
   "execution_count": 7,
   "metadata": {},
   "outputs": [],
   "source": [
    "models = [KMeans(n_clusters=2), DBSCAN()]"
   ]
  },
  {
   "cell_type": "code",
   "execution_count": 8,
   "metadata": {},
   "outputs": [
    {
     "data": {
      "image/png": "[encoded data removed]",
      "text/plain": [
       "<Figure size 432x288 with 4 Axes>"
      ]
     },
     "metadata": {},
     "output_type": "display_data"
    }
   ],
   "source": [
    "f, ax = plt.subplots(2, 2, sharex=True, sharey=True)\n",
    "for model_idx, model in enumerate(models) :\n",
    "    datasets = [dataset1, dataset2]\n",
    "    for dataset_idx, dataset in enumerate(datasets):\n",
    "        # Fit model\n",
    "        labels = model.fit_predict(dataset[0])  \n",
    "        first_class = dataset[0][labels==0]\n",
    "        second_class = dataset[0][labels==1]\n",
    "        # Display results\n",
    "        ax[model_idx][dataset_idx].scatter(first_class['x'] , first_class['y'] , color = 'red')\n",
    "        ax[model_idx][dataset_idx].scatter(second_class['x'] , second_class['y'] , color = 'blue')\n",
    "        if model_idx == 0:\n",
    "            ax[model_idx][dataset_idx].set_title('Dataset '+ str(dataset_idx+1))\n",
    "        if dataset_idx == 0:\n",
    "             ax[model_idx][dataset_idx].set_ylabel(type(model).__name__)\n",
    "        ax[model_idx][dataset_idx].set_aspect('equal')\n",
    "        ax[model_idx][dataset_idx].tick_params(bottom=False, left=False, labelbottom=False, labelleft=False) "
   ]
  }
 ],
 "metadata": {
  "kernelspec": {
   "display_name": "Python 3",
   "language": "python",
   "name": "python3"
  },
  "language_info": {
   "codemirror_mode": {
    "name": "ipython",
    "version": 3
   },
   "file_extension": ".py",
   "mimetype": "text/x-python",
   "name": "python",
   "nbconvert_exporter": "python",
   "pygments_lexer": "ipython3",
   "version": "3.7.4"
  }
 },
 "nbformat": 4,
 "nbformat_minor": 2
}
